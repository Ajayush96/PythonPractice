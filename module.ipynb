{
 "cells": [
  {
   "cell_type": "code",
   "execution_count": 2,
   "id": "1a8ecc42",
   "metadata": {},
   "outputs": [],
   "source": [
    "#PyPI is a repo for open-source third-party Python package"
   ]
  },
  {
   "cell_type": "code",
   "execution_count": 3,
   "id": "22782af6",
   "metadata": {},
   "outputs": [
    {
     "name": "stdout",
     "output_type": "stream",
     "text": [
      "Requirement already satisfied: colorama in /usr/lib/python3/dist-packages (0.4.3)\n",
      "Note: you may need to restart the kernel to use updated packages.\n"
     ]
    }
   ],
   "source": [
    "pip install colorama"
   ]
  },
  {
   "cell_type": "code",
   "execution_count": 1,
   "id": "2e942409",
   "metadata": {},
   "outputs": [],
   "source": [
    "from colorama import Fore"
   ]
  },
  {
   "cell_type": "code",
   "execution_count": 2,
   "id": "799eb726",
   "metadata": {},
   "outputs": [
    {
     "name": "stdout",
     "output_type": "stream",
     "text": [
      "\u001b[31msome red text\n"
     ]
    }
   ],
   "source": [
    "print(Fore.RED + \"some red text\")"
   ]
  },
  {
   "cell_type": "code",
   "execution_count": 3,
   "id": "36bb54fb",
   "metadata": {},
   "outputs": [
    {
     "name": "stdout",
     "output_type": "stream",
     "text": [
      "\u001b[32mSWITCH TO GREEN\n"
     ]
    }
   ],
   "source": [
    "print(Fore.GREEN + \"SWITCH TO GREEN\")"
   ]
  },
  {
   "cell_type": "code",
   "execution_count": null,
   "id": "ed424546",
   "metadata": {},
   "outputs": [],
   "source": [
    "#PACKAGES ARE COLLECTION OF mODULE"
   ]
  }
 ],
 "metadata": {
  "kernelspec": {
   "display_name": "Python 3 (ipykernel)",
   "language": "python",
   "name": "python3"
  },
  "language_info": {
   "codemirror_mode": {
    "name": "ipython",
    "version": 3
   },
   "file_extension": ".py",
   "mimetype": "text/x-python",
   "name": "python",
   "nbconvert_exporter": "python",
   "pygments_lexer": "ipython3",
   "version": "3.8.10"
  }
 },
 "nbformat": 4,
 "nbformat_minor": 5
}
