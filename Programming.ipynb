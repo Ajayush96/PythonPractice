{
 "cells": [
  {
   "cell_type": "code",
   "execution_count": 5,
   "id": "42b222c1",
   "metadata": {},
   "outputs": [],
   "source": [
    "#print of two number"
   ]
  },
  {
   "cell_type": "code",
   "execution_count": 7,
   "id": "df865b02",
   "metadata": {},
   "outputs": [
    {
     "name": "stdout",
     "output_type": "stream",
     "text": [
      "sum of two number 7\n"
     ]
    }
   ],
   "source": [
    "a=2\n",
    "b=5\n",
    "\n",
    "c= a+b\n",
    "\n",
    "print(\"sum of two number \" + str(c))"
   ]
  },
  {
   "cell_type": "code",
   "execution_count": 15,
   "id": "5b199cba",
   "metadata": {},
   "outputs": [
    {
     "name": "stdout",
     "output_type": "stream",
     "text": [
      "enter the  a number3\n",
      "enter the  b number4\n",
      "enter the  c number5\n",
      "enter the  d number6\n",
      "the Avg. of the all number 4.5\n"
     ]
    }
   ],
   "source": [
    "a=int(input(\"enter the  a number\"))\n",
    "b=int(input(\"enter the  b number\"))\n",
    "c=int(input(\"enter the  c number\"))\n",
    "d=int(input(\"enter the  d number\"))\n",
    "\n",
    "\n",
    "n = (a + b+ c+ d)/4\n",
    "\n",
    "print(f'the Avg. of the all number {n}')"
   ]
  },
  {
   "cell_type": "code",
   "execution_count": 16,
   "id": "41635488",
   "metadata": {},
   "outputs": [],
   "source": [
    "#compound Interset A = P(1 + r/n) ^ (n * t)"
   ]
  },
  {
   "cell_type": "code",
   "execution_count": 1,
   "id": "2f759bbb",
   "metadata": {},
   "outputs": [
    {
     "name": "stdout",
     "output_type": "stream",
     "text": [
      "Please enter principle ammount1000\n",
      "please enter rate10\n",
      "Number of copounding per year6\n",
      "please enter time5\n",
      "compount interest is = 641.941: \n",
      "Requested Amount is = 1641.94: \n"
     ]
    }
   ],
   "source": [
    "P = int(input(\"Please enter principle ammount\"))\n",
    "r= int(input(\"please enter rate\"))\n",
    "n= int(input(\"Number of copounding per year\"))\n",
    "t= int(input(\"please enter time\"))\n",
    "rate = r/100\n",
    "\n",
    "A = P * pow((1 + rate/n),n * t)\n",
    "CI = A - P\n",
    "\n",
    "print(\"compount interest is = %.3f: \" %CI)\n",
    "print(\"Requested Amount is = %.2f: \" %A)"
   ]
  },
  {
   "cell_type": "code",
   "execution_count": 2,
   "id": "fbea5530",
   "metadata": {},
   "outputs": [],
   "source": [
    "#Python Program to Find Square root"
   ]
  },
  {
   "cell_type": "code",
   "execution_count": 9,
   "id": "230210ac",
   "metadata": {},
   "outputs": [
    {
     "name": "stdout",
     "output_type": "stream",
     "text": [
      "[1, 9, 16, 25, 4, 144, 64]\n"
     ]
    }
   ],
   "source": [
    "mylist = [1,3,4,5,2,12,8]\n",
    "\n",
    "rootList =[]\n",
    "\n",
    "for item in mylist:\n",
    "    item1=(item**2)\n",
    "    rootList.append(item1)\n",
    "    \n",
    "    \n",
    "print(rootList)\n",
    "    "
   ]
  },
  {
   "cell_type": "code",
   "execution_count": 10,
   "id": "51187152",
   "metadata": {},
   "outputs": [],
   "source": [
    "#swap of two number"
   ]
  },
  {
   "cell_type": "code",
   "execution_count": 13,
   "id": "3ba931d7",
   "metadata": {},
   "outputs": [
    {
     "name": "stdout",
     "output_type": "stream",
     "text": [
      "before swap of two number:  2 3\n",
      "after swap of two number:  3 2\n"
     ]
    }
   ],
   "source": [
    "a = 2\n",
    "b = 3\n",
    "\n",
    "print(\"before swap of two number: \", a ,b)\n",
    "\n",
    "(a,b) = (b,a)\n",
    "\n",
    "print(\"after swap of two number: \", a ,b)"
   ]
  },
  {
   "cell_type": "code",
   "execution_count": 14,
   "id": "cedce536",
   "metadata": {},
   "outputs": [],
   "source": [
    "#python program to make simple calculator"
   ]
  },
  {
   "cell_type": "code",
   "execution_count": 17,
   "id": "20907b46",
   "metadata": {},
   "outputs": [
    {
     "name": "stdout",
     "output_type": "stream",
     "text": [
      "Please enter first number12\n",
      "please enter 2nd number12\n",
      "operation: +,-,*,/\n",
      "select operation*\n",
      "12.0 * 12.0 = 144.0\n"
     ]
    }
   ],
   "source": [
    "#take input\n",
    "num1 = float(input(\"Please enter first number\"))\n",
    "num2 = float(input(\"please enter 2nd number\"))\n",
    "\n",
    "#choose operation\n",
    "print(\"operation: +,-,*,/\")\n",
    "select = input(\"select operation\")\n",
    "\n",
    "#check operations and display result\n",
    "\n",
    "if select == \"+\":\n",
    "    print(num1 , \"+\" , num2 ,\"=\",num1+num2)\n",
    "    \n",
    "elif select == \"-\":\n",
    "    print(num1,\"-\",num2,\"=\",num1-num2)\n",
    "    \n",
    "elif select == \"*\":\n",
    "    print(num1,\"*\",num2,\"=\",num1*num2)\n",
    "    \n",
    "elif select == \"/\":\n",
    "    print(num1,\"/\",num2,\"=\",num1/num2)\n",
    "    \n",
    "else:\n",
    "    print(\"invalid input\")\n",
    "    \n"
   ]
  },
  {
   "cell_type": "code",
   "execution_count": 18,
   "id": "55bdea95",
   "metadata": {},
   "outputs": [],
   "source": [
    "#fibonacci series"
   ]
  },
  {
   "cell_type": "code",
   "execution_count": 27,
   "id": "39fe105d",
   "metadata": {},
   "outputs": [
    {
     "name": "stdout",
     "output_type": "stream",
     "text": [
      "Please enter the number till you want fibonacci series10\n",
      "The fibonaci series is: \n",
      "0 1 1 2 3 5 8 13 21 34 "
     ]
    }
   ],
   "source": [
    "n= int(input(\"Please enter the number till you want fibonacci series\"))\n",
    "#print fibonacci series\n",
    "\n",
    "x , y = 0,1\n",
    "\n",
    "#verify if the number of term is valid\n",
    "if n<=0:\n",
    "    print(\"please enter a positive number\")\n",
    "\n",
    "elif n ==1:\n",
    "    print(\"The fibonacci series: \" ,x)\n",
    "\n",
    "else:\n",
    "    print(\"The fibonaci series is: \")\n",
    "    \n",
    "    for number in range (1, n +1):\n",
    "        \n",
    "        print(x, end= ' ')\n",
    "        \n",
    "        z = x+y\n",
    "        \n",
    "        x = y\n",
    "        y=z\n",
    "        \n",
    "    "
   ]
  },
  {
   "cell_type": "code",
   "execution_count": 30,
   "id": "78ad3467",
   "metadata": {},
   "outputs": [],
   "source": [
    "#n= int(input(\"Please enter the number till you want fibonacci series\"))\n",
    "def fibo(n):\n",
    "    x,y =0,1\n",
    "    for number in range (1, n+1):\n",
    "        \n",
    "        print(x, end=' ')\n",
    "        \n",
    "        z = x+ y\n",
    "        \n",
    "        x = y\n",
    "        y = z        "
   ]
  },
  {
   "cell_type": "code",
   "execution_count": 31,
   "id": "c6518ad4",
   "metadata": {},
   "outputs": [
    {
     "name": "stdout",
     "output_type": "stream",
     "text": [
      "0 1 1 2 3 5 8 13 21 34 "
     ]
    }
   ],
   "source": [
    "fibo(10)"
   ]
  },
  {
   "cell_type": "code",
   "execution_count": 42,
   "id": "b9fea241",
   "metadata": {},
   "outputs": [],
   "source": []
  },
  {
   "cell_type": "code",
   "execution_count": 44,
   "id": "33f3f9ab",
   "metadata": {},
   "outputs": [],
   "source": [
    "#factorial Number"
   ]
  },
  {
   "cell_type": "code",
   "execution_count": 50,
   "id": "9ffe8e91",
   "metadata": {},
   "outputs": [
    {
     "name": "stdout",
     "output_type": "stream",
     "text": [
      "Enter number: 5\n",
      "The factorial of 5 is 120\n"
     ]
    }
   ],
   "source": [
    "# take input\n",
    "num = int(input(\"Enter number: \"))\n",
    "\n",
    "if num <0:\n",
    "    print(\"please enter a +ve number\")\n",
    "elif num ==0:\n",
    "    print('The factorial of 0 is 1')\n",
    "else:\n",
    "    fact =1\n",
    "\n",
    "for i in range(1,num+1):\n",
    "    fact=fact*i\n",
    "print(f'The factorial of {num} is {fact}')"
   ]
  },
  {
   "cell_type": "code",
   "execution_count": 51,
   "id": "83510e8c",
   "metadata": {},
   "outputs": [],
   "source": [
    "def fact(n):\n",
    "    \n",
    "    fact = 1\n",
    "    for i in range (1, num+1):\n",
    "        fact=fact*1\n",
    "    print(f'The factorial of {n} is {fact}')\n",
    "    "
   ]
  },
  {
   "cell_type": "code",
   "execution_count": 52,
   "id": "c2b6c2ec",
   "metadata": {},
   "outputs": [
    {
     "name": "stdout",
     "output_type": "stream",
     "text": [
      "The factorial of 5 is 1\n"
     ]
    }
   ],
   "source": [
    "fact(5)"
   ]
  },
  {
   "cell_type": "code",
   "execution_count": 53,
   "id": "4663a061",
   "metadata": {},
   "outputs": [
    {
     "name": "stdout",
     "output_type": "stream",
     "text": [
      "the difference between two value is 12\n"
     ]
    }
   ],
   "source": [
    "# Python program to find difference between two numbers\n",
    "\n",
    "num1 =25\n",
    "\n",
    "num2 =13\n",
    "\n",
    "if num1 > num2:\n",
    "    diff = num1 - num2\n",
    "else:\n",
    "    diff = num2 - num1\n",
    "    \n",
    "print(f'the difference between two value is {diff}')"
   ]
  },
  {
   "cell_type": "code",
   "execution_count": 63,
   "id": "e9f29063",
   "metadata": {},
   "outputs": [
    {
     "name": "stdout",
     "output_type": "stream",
     "text": [
      "Enter the value of a: 2\n",
      "Enter the value of b: 4\n",
      "Enter the value of c: 2\n",
      "The value of D is 0\n",
      "Two equal and real roots are -1.00 and -1.00\n"
     ]
    }
   ],
   "source": [
    "#solve quadric equation\n",
    "\n",
    "import math\n",
    "\n",
    "#take input\n",
    "\n",
    "a = int(input('Enter the value of a: '))\n",
    "b = int(input('Enter the value of b: '))\n",
    "c = int(input('Enter the value of c: '))\n",
    "\n",
    "# find the value of D\n",
    "\n",
    "D = b**2 -4*a*c\n",
    "\n",
    "print(f\"The value of D is {D}\")\n",
    "\n",
    "if D > 0:\n",
    "    root1 = (-b + math.sqrt(D)/2*a)\n",
    "    root2 = (-b - math.sqrt(D)/2*a)\n",
    "    print(\"Two distinct real roots are %.2f and %.2f\" %(root1,root2))\n",
    "    \n",
    "elif D == 0:\n",
    "    root1 = root2 = -b / (2 * a)\n",
    "    print(\"Two equal and real roots are %.2f and %.2f\" %(root1, root2))\n",
    "    \n",
    "elif D < 0:\n",
    "    root1 = root2 = -b / (2 * a)\n",
    "    imaginary = math.sqrt(-D) / (2 * a)\n",
    "    print(\"Two distinct complex roots are %.2f+%.2f and %.2f-%.2f\" \n",
    "                          %(root1, imaginary, root2, imaginary))"
   ]
  },
  {
   "cell_type": "code",
   "execution_count": null,
   "id": "8b275be1",
   "metadata": {},
   "outputs": [],
   "source": [
    "#sum of digit "
   ]
  },
  {
   "cell_type": "code",
   "execution_count": 65,
   "id": "64c43b52",
   "metadata": {},
   "outputs": [
    {
     "name": "stdout",
     "output_type": "stream",
     "text": [
      "Print the sum of all digit present in list: 37\n"
     ]
    }
   ],
   "source": [
    "MyList = [2,4,1,2,3,6,7,4,5,3]\n",
    "\n",
    "sum =0\n",
    "\n",
    "for item in MyList:\n",
    "    sum = sum + item\n",
    "    \n",
    "print(f\"Print the sum of all digit present in list: {sum}\")"
   ]
  },
  {
   "cell_type": "code",
   "execution_count": 74,
   "id": "94f28d24",
   "metadata": {},
   "outputs": [
    {
     "name": "stdout",
     "output_type": "stream",
     "text": [
      "9\n"
     ]
    }
   ],
   "source": [
    "#Print the third  largest\n",
    "\n",
    "MyList = [7,8,1,3,9,4,23,45,2,1]\n",
    "\n",
    "MyList.sort()\n",
    "print(MyList[::-1][2])"
   ]
  },
  {
   "cell_type": "code",
   "execution_count": 75,
   "id": "49cf1281",
   "metadata": {},
   "outputs": [
    {
     "name": "stdout",
     "output_type": "stream",
     "text": [
      "Please enter the Number which you want to print5\n",
      "Print sum of N natural Number: 15\n"
     ]
    }
   ],
   "source": [
    "#sum of N natural number\n",
    "\n",
    "n= int(input(\"Please enter the Number which you want to print\"))\n",
    "sum = 0\n",
    "\n",
    "for num in range(1, n+1):\n",
    "    sum = sum + num\n",
    "print(f\"Print sum of N natural Number: {sum}\")"
   ]
  },
  {
   "cell_type": "code",
   "execution_count": 76,
   "id": "bda936fa",
   "metadata": {},
   "outputs": [
    {
     "name": "stdout",
     "output_type": "stream",
     "text": [
      "please enter the number10\n",
      "0 1 1 2 3 5 8 13 21 34 "
     ]
    }
   ],
   "source": [
    "n= int(input(\"please enter the number\"))\n",
    "\n",
    "x,y = 0,1\n",
    "\n",
    "for i in range (1,n+1):\n",
    "    \n",
    "    print(x, end = ' ')\n",
    "    \n",
    "    z = x+y\n",
    "    \n",
    "    x=y\n",
    "    y=z"
   ]
  },
  {
   "cell_type": "code",
   "execution_count": null,
   "id": "0a54c333",
   "metadata": {},
   "outputs": [],
   "source": []
  }
 ],
 "metadata": {
  "kernelspec": {
   "display_name": "Python 3 (ipykernel)",
   "language": "python",
   "name": "python3"
  },
  "language_info": {
   "codemirror_mode": {
    "name": "ipython",
    "version": 3
   },
   "file_extension": ".py",
   "mimetype": "text/x-python",
   "name": "python",
   "nbconvert_exporter": "python",
   "pygments_lexer": "ipython3",
   "version": "3.8.10"
  }
 },
 "nbformat": 4,
 "nbformat_minor": 5
}
