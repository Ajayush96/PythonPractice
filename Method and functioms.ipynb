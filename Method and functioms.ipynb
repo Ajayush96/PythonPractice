{
 "cells": [
  {
   "cell_type": "code",
   "execution_count": 1,
   "id": "324d7fe6",
   "metadata": {},
   "outputs": [],
   "source": [
    "def add_function(num1,num2):\n",
    "    return num1+num2"
   ]
  },
  {
   "cell_type": "code",
   "execution_count": 2,
   "id": "70f48a1a",
   "metadata": {},
   "outputs": [],
   "source": [
    "result=add_function(2,3)"
   ]
  },
  {
   "cell_type": "code",
   "execution_count": 3,
   "id": "d4a9bb75",
   "metadata": {},
   "outputs": [
    {
     "data": {
      "text/plain": [
       "5"
      ]
     },
     "execution_count": 3,
     "metadata": {},
     "output_type": "execute_result"
    }
   ],
   "source": [
    "result"
   ]
  },
  {
   "cell_type": "code",
   "execution_count": 4,
   "id": "b1acfd24",
   "metadata": {},
   "outputs": [],
   "source": [
    "def say_hello():\n",
    "    print(\"HI\")\n",
    "    print(\"How are you\")"
   ]
  },
  {
   "cell_type": "code",
   "execution_count": 5,
   "id": "ebb8fa92",
   "metadata": {},
   "outputs": [
    {
     "name": "stdout",
     "output_type": "stream",
     "text": [
      "HI\n",
      "How are you\n"
     ]
    }
   ],
   "source": [
    "say_hello()"
   ]
  },
  {
   "cell_type": "code",
   "execution_count": 6,
   "id": "04a1b8ee",
   "metadata": {},
   "outputs": [],
   "source": [
    "def say_hello(name):\n",
    "    print(f'Hello {name}')"
   ]
  },
  {
   "cell_type": "code",
   "execution_count": 7,
   "id": "cedccfff",
   "metadata": {},
   "outputs": [
    {
     "name": "stdout",
     "output_type": "stream",
     "text": [
      "Hello ashish\n"
     ]
    }
   ],
   "source": [
    "say_hello('ashish')"
   ]
  },
  {
   "cell_type": "code",
   "execution_count": 8,
   "id": "bdd134e4",
   "metadata": {},
   "outputs": [
    {
     "data": {
      "text/plain": [
       "int"
      ]
     },
     "execution_count": 8,
     "metadata": {},
     "output_type": "execute_result"
    }
   ],
   "source": [
    "type(result)"
   ]
  },
  {
   "cell_type": "code",
   "execution_count": 9,
   "id": "ba9db1ef",
   "metadata": {},
   "outputs": [],
   "source": [
    "def even_check(number):\n",
    "    result = number % 2 == 0\n",
    "    return result"
   ]
  },
  {
   "cell_type": "code",
   "execution_count": 10,
   "id": "df64899d",
   "metadata": {},
   "outputs": [
    {
     "data": {
      "text/plain": [
       "True"
      ]
     },
     "execution_count": 10,
     "metadata": {},
     "output_type": "execute_result"
    }
   ],
   "source": [
    "even_check(20)"
   ]
  },
  {
   "cell_type": "code",
   "execution_count": 11,
   "id": "cff28fc9",
   "metadata": {},
   "outputs": [
    {
     "data": {
      "text/plain": [
       "False"
      ]
     },
     "execution_count": 11,
     "metadata": {},
     "output_type": "execute_result"
    }
   ],
   "source": [
    "even_check(23)"
   ]
  },
  {
   "cell_type": "code",
   "execution_count": 12,
   "id": "a49172e3",
   "metadata": {},
   "outputs": [],
   "source": [
    "#Return true if any number is even inside a list"
   ]
  },
  {
   "cell_type": "code",
   "execution_count": 42,
   "id": "41706b93",
   "metadata": {},
   "outputs": [],
   "source": [
    "def check_even_list(num_list):\n",
    "    \n",
    "    #return all the even number in a list\n",
    "    \n",
    "    even_numbers = []\n",
    "    \n",
    "    for number in num_list:\n",
    "        if number % 2 == 0:\n",
    "            even_numbers.append(number)\n",
    "        else:\n",
    "            pass\n",
    "    return even_numbers\n",
    "    "
   ]
  },
  {
   "cell_type": "code",
   "execution_count": 43,
   "id": "dd8c3164",
   "metadata": {},
   "outputs": [
    {
     "data": {
      "text/plain": [
       "[8, 4]"
      ]
     },
     "execution_count": 43,
     "metadata": {},
     "output_type": "execute_result"
    }
   ],
   "source": [
    "check_even_list([1,8,1,5,4])"
   ]
  },
  {
   "cell_type": "code",
   "execution_count": 44,
   "id": "dec633f9",
   "metadata": {},
   "outputs": [
    {
     "data": {
      "text/plain": [
       "[]"
      ]
     },
     "execution_count": 44,
     "metadata": {},
     "output_type": "execute_result"
    }
   ],
   "source": [
    "[]"
   ]
  },
  {
   "cell_type": "code",
   "execution_count": 45,
   "id": "0cb6ead2",
   "metadata": {},
   "outputs": [
    {
     "data": {
      "text/plain": [
       "[2]"
      ]
     },
     "execution_count": 45,
     "metadata": {},
     "output_type": "execute_result"
    }
   ],
   "source": [
    "check_even_list([2,3,1,3,5,1])"
   ]
  },
  {
   "cell_type": "code",
   "execution_count": 46,
   "id": "75a88a64",
   "metadata": {},
   "outputs": [],
   "source": [
    "stock_price = [('APPL',200),('GOOG',400),('MSFT',100)]"
   ]
  },
  {
   "cell_type": "code",
   "execution_count": 48,
   "id": "46f800c6",
   "metadata": {},
   "outputs": [
    {
     "name": "stdout",
     "output_type": "stream",
     "text": [
      "('APPL', 200)\n",
      "('GOOG', 400)\n",
      "('MSFT', 100)\n"
     ]
    }
   ],
   "source": [
    "for item in stock_price:\n",
    "    print(item)"
   ]
  },
  {
   "cell_type": "code",
   "execution_count": 49,
   "id": "6fe7771e",
   "metadata": {},
   "outputs": [
    {
     "name": "stdout",
     "output_type": "stream",
     "text": [
      "APPL\n",
      "GOOG\n",
      "MSFT\n"
     ]
    }
   ],
   "source": [
    "for ticker,price in stock_price:\n",
    "    print(ticker)"
   ]
  },
  {
   "cell_type": "code",
   "execution_count": 56,
   "id": "a491191a",
   "metadata": {},
   "outputs": [],
   "source": [
    "def employee_check(stock_price):\n",
    "    \n",
    "    current_max = 0\n",
    "    employee_of_month = ''\n",
    "    \n",
    "    for ticker,price in stock_price:\n",
    "        if price > current_max:\n",
    "            current_max = price\n",
    "            employee_of_month = ticker\n",
    "            \n",
    "        else:\n",
    "            pass\n",
    "            \n",
    "    \n",
    "    \n",
    "    \n",
    "    \n",
    "    #returens\n",
    "    return(employee_of_month,current_max)"
   ]
  },
  {
   "cell_type": "code",
   "execution_count": 58,
   "id": "9bc5d913",
   "metadata": {},
   "outputs": [],
   "source": [
    "result=employee_check(stock_price)"
   ]
  },
  {
   "cell_type": "code",
   "execution_count": 59,
   "id": "494b7cf0",
   "metadata": {},
   "outputs": [
    {
     "data": {
      "text/plain": [
       "('GOOG', 400)"
      ]
     },
     "execution_count": 59,
     "metadata": {},
     "output_type": "execute_result"
    }
   ],
   "source": [
    "result"
   ]
  },
  {
   "cell_type": "code",
   "execution_count": 60,
   "id": "e42723eb",
   "metadata": {},
   "outputs": [],
   "source": [
    "name, price =employee_check(stock_price)"
   ]
  },
  {
   "cell_type": "code",
   "execution_count": 61,
   "id": "e0c0275c",
   "metadata": {},
   "outputs": [
    {
     "data": {
      "text/plain": [
       "'GOOG'"
      ]
     },
     "execution_count": 61,
     "metadata": {},
     "output_type": "execute_result"
    }
   ],
   "source": [
    "name"
   ]
  },
  {
   "cell_type": "code",
   "execution_count": 1,
   "id": "5cd36955",
   "metadata": {},
   "outputs": [],
   "source": [
    "Example = [1,2,3,4,2,6,3,78,12]\n",
    "from random import shuffle"
   ]
  },
  {
   "cell_type": "code",
   "execution_count": 2,
   "id": "25725124",
   "metadata": {},
   "outputs": [],
   "source": [
    "def shuffle_list(mylist):\n",
    "    shuffle(mylist)\n",
    "    return mylist"
   ]
  },
  {
   "cell_type": "code",
   "execution_count": 3,
   "id": "bcaa7332",
   "metadata": {},
   "outputs": [],
   "source": [
    "result = shuffle_list(Example)"
   ]
  },
  {
   "cell_type": "code",
   "execution_count": 4,
   "id": "95b7bf83",
   "metadata": {},
   "outputs": [
    {
     "data": {
      "text/plain": [
       "[3, 1, 2, 3, 4, 78, 12, 6, 2]"
      ]
     },
     "execution_count": 4,
     "metadata": {},
     "output_type": "execute_result"
    }
   ],
   "source": [
    "result"
   ]
  },
  {
   "cell_type": "code",
   "execution_count": 5,
   "id": "08cfdc31",
   "metadata": {},
   "outputs": [],
   "source": [
    "def player_guess():\n",
    "    \n",
    "    guess=''\n",
    "    \n",
    "    while guess not in ['0','1','2']:\n",
    "        guess = input(\"pick a number: 0,1, or 2\")\n",
    "        \n",
    "    return int(guess)"
   ]
  },
  {
   "cell_type": "code",
   "execution_count": 6,
   "id": "65a871b1",
   "metadata": {},
   "outputs": [
    {
     "name": "stdout",
     "output_type": "stream",
     "text": [
      "pick a number: 0,1, or 21\n"
     ]
    },
    {
     "data": {
      "text/plain": [
       "1"
      ]
     },
     "execution_count": 6,
     "metadata": {},
     "output_type": "execute_result"
    }
   ],
   "source": [
    "player_guess()"
   ]
  },
  {
   "cell_type": "code",
   "execution_count": 7,
   "id": "1553d353",
   "metadata": {},
   "outputs": [],
   "source": [
    "def check_guess(mylist,guess):\n",
    "    if mylist[guess] == 'O':\n",
    "        print(\"correct\")\n",
    "    else:\n",
    "        print(\"wrong guess!\")\n",
    "        print(mylist)\n",
    "        "
   ]
  },
  {
   "cell_type": "code",
   "execution_count": 9,
   "id": "793d09ea",
   "metadata": {},
   "outputs": [
    {
     "name": "stdout",
     "output_type": "stream",
     "text": [
      "pick a number: 0,1, or 21\n",
      "wrong guess!\n",
      "['', '', 'O']\n"
     ]
    }
   ],
   "source": [
    "mylist = ['','O','']\n",
    "\n",
    "#shuffle list\n",
    "mixedup_list = shuffle_list(mylist)\n",
    "\n",
    "#user guess\n",
    "guess = player_guess()\n",
    "\n",
    "#Check Guess\n",
    "\n",
    "check_guess(mixedup_list,guess)"
   ]
  },
  {
   "cell_type": "code",
   "execution_count": 10,
   "id": "f385fad4",
   "metadata": {},
   "outputs": [],
   "source": [
    "#args and Kwargs"
   ]
  },
  {
   "cell_type": "code",
   "execution_count": 12,
   "id": "24b28ee0",
   "metadata": {},
   "outputs": [
    {
     "name": "stdout",
     "output_type": "stream",
     "text": [
      "harry rohan skillf hammad\n"
     ]
    }
   ],
   "source": [
    "def function_name_print(a,b,c,d):\n",
    "    print(a,b,c,d)\n",
    "    \n",
    "function_name_print('harry','rohan','skillf','hammad')"
   ]
  },
  {
   "cell_type": "code",
   "execution_count": 13,
   "id": "8a91568f",
   "metadata": {},
   "outputs": [],
   "source": [
    "#agrs(it takes as tupple)"
   ]
  },
  {
   "cell_type": "code",
   "execution_count": 16,
   "id": "99fab94a",
   "metadata": {},
   "outputs": [
    {
     "name": "stdout",
     "output_type": "stream",
     "text": [
      "ashish\n",
      "rohan\n",
      "harrry\n",
      "skillf\n",
      "hammad\n",
      "shivam\n"
     ]
    }
   ],
   "source": [
    "def agrspractice(*args):\n",
    "    #print(ash[0])\n",
    "    for item in args:\n",
    "        print(item)\n",
    "    \n",
    "ash=['ashish','rohan','harrry','skillf','hammad','shivam']\n",
    "\n",
    "agrspractice(*ash)"
   ]
  },
  {
   "cell_type": "code",
   "execution_count": 18,
   "id": "54192619",
   "metadata": {},
   "outputs": [
    {
     "name": "stdout",
     "output_type": "stream",
     "text": [
      "this is a practice\n",
      "ashish\n",
      "rohan\n",
      "harrry\n",
      "skillf\n",
      "hammad\n",
      "shivam\n"
     ]
    }
   ],
   "source": [
    "def agrspractice(normal,*args): #args should always be in last\n",
    "    #print(ash[0])\n",
    "    print(normal)\n",
    "    for item in args:\n",
    "        print(item)\n",
    "    \n",
    "ash=['ashish','rohan','harrry','skillf','hammad','shivam']\n",
    "normal = \"this is a practice\"\n",
    "\n",
    "agrspractice(normal,*ash)"
   ]
  },
  {
   "cell_type": "code",
   "execution_count": 21,
   "id": "720ebbdf",
   "metadata": {},
   "outputs": [
    {
     "name": "stdout",
     "output_type": "stream",
     "text": [
      "this is a practice\n",
      "ashish\n",
      "rohan\n",
      "harrry\n",
      "skillf\n",
      "hammad\n",
      "shivam\n",
      "now i would like to introduce some of our heroes\n",
      "ashish is a SDET\n",
      "harry is a Teacher\n",
      "udemy is a master\n"
     ]
    }
   ],
   "source": [
    "def agrspractice(normal,*args,**kwargswala): #args should always be in last\n",
    "    #print(ash[0])\n",
    "    print(normal)\n",
    "    for item in args:\n",
    "        print(item)\n",
    "    print(\"now i would like to introduce some of our heroes\")\n",
    "    \n",
    "    for key,value in kwargswala.items():\n",
    "        print(f\"{key} is a {value}\")\n",
    "    \n",
    "ash=['ashish','rohan','harrry','skillf','hammad','shivam']\n",
    "normal = \"this is a practice\"\n",
    "kw ={'ashish':'SDET','harry':'Teacher','udemy':'master'}\n",
    "\n",
    "agrspractice(normal,*ash,**kw)"
   ]
  },
  {
   "cell_type": "code",
   "execution_count": null,
   "id": "14244b01",
   "metadata": {},
   "outputs": [],
   "source": []
  }
 ],
 "metadata": {
  "kernelspec": {
   "display_name": "Python 3 (ipykernel)",
   "language": "python",
   "name": "python3"
  },
  "language_info": {
   "codemirror_mode": {
    "name": "ipython",
    "version": 3
   },
   "file_extension": ".py",
   "mimetype": "text/x-python",
   "name": "python",
   "nbconvert_exporter": "python",
   "pygments_lexer": "ipython3",
   "version": "3.8.10"
  }
 },
 "nbformat": 4,
 "nbformat_minor": 5
}
