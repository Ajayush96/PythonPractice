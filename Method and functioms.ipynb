{
 "cells": [
  {
   "cell_type": "code",
   "execution_count": 1,
   "id": "2552fc23",
   "metadata": {},
   "outputs": [],
   "source": [
    "def add_function(num1,num2):\n",
    "    return num1+num2"
   ]
  },
  {
   "cell_type": "code",
   "execution_count": 2,
   "id": "5c49d044",
   "metadata": {},
   "outputs": [],
   "source": [
    "result=add_function(2,3)"
   ]
  },
  {
   "cell_type": "code",
   "execution_count": 3,
   "id": "4cb6c18e",
   "metadata": {},
   "outputs": [
    {
     "data": {
      "text/plain": [
       "5"
      ]
     },
     "execution_count": 3,
     "metadata": {},
     "output_type": "execute_result"
    }
   ],
   "source": [
    "result"
   ]
  },
  {
   "cell_type": "code",
   "execution_count": 4,
   "id": "ba28312d",
   "metadata": {},
   "outputs": [],
   "source": [
    "def say_hello():\n",
    "    print(\"HI\")\n",
    "    print(\"How are you\")"
   ]
  },
  {
   "cell_type": "code",
   "execution_count": 5,
   "id": "cf79101d",
   "metadata": {},
   "outputs": [
    {
     "name": "stdout",
     "output_type": "stream",
     "text": [
      "HI\n",
      "How are you\n"
     ]
    }
   ],
   "source": [
    "say_hello()"
   ]
  },
  {
   "cell_type": "code",
   "execution_count": 6,
   "id": "a923bdd4",
   "metadata": {},
   "outputs": [],
   "source": [
    "def say_hello(name):\n",
    "    print(f'Hello {name}')"
   ]
  },
  {
   "cell_type": "code",
   "execution_count": 7,
   "id": "69c9c4d4",
   "metadata": {},
   "outputs": [
    {
     "name": "stdout",
     "output_type": "stream",
     "text": [
      "Hello ashish\n"
     ]
    }
   ],
   "source": [
    "say_hello('ashish')"
   ]
  },
  {
   "cell_type": "code",
   "execution_count": 8,
   "id": "389310b2",
   "metadata": {},
   "outputs": [
    {
     "data": {
      "text/plain": [
       "int"
      ]
     },
     "execution_count": 8,
     "metadata": {},
     "output_type": "execute_result"
    }
   ],
   "source": [
    "type(result)"
   ]
  },
  {
   "cell_type": "code",
   "execution_count": 9,
   "id": "75e74194",
   "metadata": {},
   "outputs": [],
   "source": [
    "def even_check(number):\n",
    "    result = number % 2 == 0\n",
    "    return result"
   ]
  },
  {
   "cell_type": "code",
   "execution_count": 10,
   "id": "0ac3bdb7",
   "metadata": {},
   "outputs": [
    {
     "data": {
      "text/plain": [
       "True"
      ]
     },
     "execution_count": 10,
     "metadata": {},
     "output_type": "execute_result"
    }
   ],
   "source": [
    "even_check(20)"
   ]
  },
  {
   "cell_type": "code",
   "execution_count": 11,
   "id": "cb5b185b",
   "metadata": {},
   "outputs": [
    {
     "data": {
      "text/plain": [
       "False"
      ]
     },
     "execution_count": 11,
     "metadata": {},
     "output_type": "execute_result"
    }
   ],
   "source": [
    "even_check(23)"
   ]
  },
  {
   "cell_type": "code",
   "execution_count": 12,
   "id": "a523cb53",
   "metadata": {},
   "outputs": [],
   "source": [
    "#Return true if any number is even inside a list"
   ]
  },
  {
   "cell_type": "code",
   "execution_count": 42,
   "id": "ceff7f03",
   "metadata": {},
   "outputs": [],
   "source": [
    "def check_even_list(num_list):\n",
    "    \n",
    "    #return all the even number in a list\n",
    "    \n",
    "    even_numbers = []\n",
    "    \n",
    "    for number in num_list:\n",
    "        if number % 2 == 0:\n",
    "            even_numbers.append(number)\n",
    "        else:\n",
    "            pass\n",
    "    return even_numbers\n",
    "    "
   ]
  },
  {
   "cell_type": "code",
   "execution_count": 43,
   "id": "10f3b2e3",
   "metadata": {},
   "outputs": [
    {
     "data": {
      "text/plain": [
       "[8, 4]"
      ]
     },
     "execution_count": 43,
     "metadata": {},
     "output_type": "execute_result"
    }
   ],
   "source": [
    "check_even_list([1,8,1,5,4])"
   ]
  },
  {
   "cell_type": "code",
   "execution_count": 44,
   "id": "cfe7c6d8",
   "metadata": {},
   "outputs": [
    {
     "data": {
      "text/plain": [
       "[]"
      ]
     },
     "execution_count": 44,
     "metadata": {},
     "output_type": "execute_result"
    }
   ],
   "source": [
    "[]"
   ]
  },
  {
   "cell_type": "code",
   "execution_count": 45,
   "id": "b649b3f8",
   "metadata": {},
   "outputs": [
    {
     "data": {
      "text/plain": [
       "[2]"
      ]
     },
     "execution_count": 45,
     "metadata": {},
     "output_type": "execute_result"
    }
   ],
   "source": [
    "check_even_list([2,3,1,3,5,1])"
   ]
  },
  {
   "cell_type": "code",
   "execution_count": 46,
   "id": "6d889778",
   "metadata": {},
   "outputs": [],
   "source": [
    "stock_price = [('APPL',200),('GOOG',400),('MSFT',100)]"
   ]
  },
  {
   "cell_type": "code",
   "execution_count": 48,
   "id": "f0a10fcf",
   "metadata": {},
   "outputs": [
    {
     "name": "stdout",
     "output_type": "stream",
     "text": [
      "('APPL', 200)\n",
      "('GOOG', 400)\n",
      "('MSFT', 100)\n"
     ]
    }
   ],
   "source": [
    "for item in stock_price:\n",
    "    print(item)"
   ]
  },
  {
   "cell_type": "code",
   "execution_count": 49,
   "id": "0ba366b1",
   "metadata": {},
   "outputs": [
    {
     "name": "stdout",
     "output_type": "stream",
     "text": [
      "APPL\n",
      "GOOG\n",
      "MSFT\n"
     ]
    }
   ],
   "source": [
    "for ticker,price in stock_price:\n",
    "    print(ticker)"
   ]
  },
  {
   "cell_type": "code",
   "execution_count": 56,
   "id": "1003fe60",
   "metadata": {},
   "outputs": [],
   "source": [
    "def employee_check(stock_price):\n",
    "    \n",
    "    current_max = 0\n",
    "    employee_of_month = ''\n",
    "    \n",
    "    for ticker,price in stock_price:\n",
    "        if price > current_max:\n",
    "            current_max = price\n",
    "            employee_of_month = ticker\n",
    "            \n",
    "        else:\n",
    "            pass\n",
    "            \n",
    "    \n",
    "    \n",
    "    \n",
    "    \n",
    "    #returens\n",
    "    return(employee_of_month,current_max)"
   ]
  },
  {
   "cell_type": "code",
   "execution_count": 58,
   "id": "e1e79fb9",
   "metadata": {},
   "outputs": [],
   "source": [
    "result=employee_check(stock_price)"
   ]
  },
  {
   "cell_type": "code",
   "execution_count": 59,
   "id": "4d3e259d",
   "metadata": {},
   "outputs": [
    {
     "data": {
      "text/plain": [
       "('GOOG', 400)"
      ]
     },
     "execution_count": 59,
     "metadata": {},
     "output_type": "execute_result"
    }
   ],
   "source": [
    "result"
   ]
  },
  {
   "cell_type": "code",
   "execution_count": 60,
   "id": "bcf085fd",
   "metadata": {},
   "outputs": [],
   "source": [
    "name, price =employee_check(stock_price)"
   ]
  },
  {
   "cell_type": "code",
   "execution_count": 61,
   "id": "1540791e",
   "metadata": {},
   "outputs": [
    {
     "data": {
      "text/plain": [
       "'GOOG'"
      ]
     },
     "execution_count": 61,
     "metadata": {},
     "output_type": "execute_result"
    }
   ],
   "source": [
    "name"
   ]
  },
  {
   "cell_type": "code",
   "execution_count": 1,
   "id": "1c381e7c",
   "metadata": {},
   "outputs": [],
   "source": [
    "Example = [1,2,3,4,2,6,3,78,12]\n",
    "from random import shuffle"
   ]
  },
  {
   "cell_type": "code",
   "execution_count": 2,
   "id": "a3c958d6",
   "metadata": {},
   "outputs": [],
   "source": [
    "def shuffle_list(mylist):\n",
    "    shuffle(mylist)\n",
    "    return mylist"
   ]
  },
  {
   "cell_type": "code",
   "execution_count": 3,
   "id": "434ab03b",
   "metadata": {},
   "outputs": [],
   "source": [
    "result = shuffle_list(Example)"
   ]
  },
  {
   "cell_type": "code",
   "execution_count": 4,
   "id": "68e5137f",
   "metadata": {},
   "outputs": [
    {
     "data": {
      "text/plain": [
       "[3, 1, 2, 3, 4, 78, 12, 6, 2]"
      ]
     },
     "execution_count": 4,
     "metadata": {},
     "output_type": "execute_result"
    }
   ],
   "source": [
    "result"
   ]
  },
  {
   "cell_type": "code",
   "execution_count": 5,
   "id": "38a6b402",
   "metadata": {},
   "outputs": [],
   "source": [
    "def player_guess():\n",
    "    \n",
    "    guess=''\n",
    "    \n",
    "    while guess not in ['0','1','2']:\n",
    "        guess = input(\"pick a number: 0,1, or 2\")\n",
    "        \n",
    "    return int(guess)"
   ]
  },
  {
   "cell_type": "code",
   "execution_count": 6,
   "id": "c9db37e7",
   "metadata": {},
   "outputs": [
    {
     "name": "stdout",
     "output_type": "stream",
     "text": [
      "pick a number: 0,1, or 21\n"
     ]
    },
    {
     "data": {
      "text/plain": [
       "1"
      ]
     },
     "execution_count": 6,
     "metadata": {},
     "output_type": "execute_result"
    }
   ],
   "source": [
    "player_guess()"
   ]
  },
  {
   "cell_type": "code",
   "execution_count": 7,
   "id": "43b23a3c",
   "metadata": {},
   "outputs": [],
   "source": [
    "def check_guess(mylist,guess):\n",
    "    if mylist[guess] == 'O':\n",
    "        print(\"correct\")\n",
    "    else:\n",
    "        print(\"wrong guess!\")\n",
    "        print(mylist)\n",
    "        "
   ]
  },
  {
   "cell_type": "code",
   "execution_count": 9,
   "id": "61975bba",
   "metadata": {},
   "outputs": [
    {
     "name": "stdout",
     "output_type": "stream",
     "text": [
      "pick a number: 0,1, or 21\n",
      "wrong guess!\n",
      "['', '', 'O']\n"
     ]
    }
   ],
   "source": [
    "mylist = ['','O','']\n",
    "\n",
    "#shuffle list\n",
    "mixedup_list = shuffle_list(mylist)\n",
    "\n",
    "#user guess\n",
    "guess = player_guess()\n",
    "\n",
    "#Check Guess\n",
    "\n",
    "check_guess(mixedup_list,guess)"
   ]
  },
  {
   "cell_type": "code",
   "execution_count": 10,
   "id": "55d3dd1a",
   "metadata": {},
   "outputs": [],
   "source": [
    "#args and Kwargs"
   ]
  },
  {
   "cell_type": "code",
   "execution_count": 12,
   "id": "43530312",
   "metadata": {},
   "outputs": [
    {
     "name": "stdout",
     "output_type": "stream",
     "text": [
      "harry rohan skillf hammad\n"
     ]
    }
   ],
   "source": [
    "def function_name_print(a,b,c,d):\n",
    "    print(a,b,c,d)\n",
    "    \n",
    "function_name_print('harry','rohan','skillf','hammad')"
   ]
  },
  {
   "cell_type": "code",
   "execution_count": 13,
   "id": "ba6f8c8b",
   "metadata": {},
   "outputs": [],
   "source": [
    "#agrs(it takes as tupple)"
   ]
  },
  {
   "cell_type": "code",
   "execution_count": 16,
   "id": "d4b3600e",
   "metadata": {},
   "outputs": [
    {
     "name": "stdout",
     "output_type": "stream",
     "text": [
      "ashish\n",
      "rohan\n",
      "harrry\n",
      "skillf\n",
      "hammad\n",
      "shivam\n"
     ]
    }
   ],
   "source": [
    "def agrspractice(*args):\n",
    "    #print(ash[0])\n",
    "    for item in args:\n",
    "        print(item)\n",
    "    \n",
    "ash=['ashish','rohan','harrry','skillf','hammad','shivam']\n",
    "\n",
    "agrspractice(*ash)"
   ]
  },
  {
   "cell_type": "code",
   "execution_count": 18,
   "id": "0d03da3c",
   "metadata": {},
   "outputs": [
    {
     "name": "stdout",
     "output_type": "stream",
     "text": [
      "this is a practice\n",
      "ashish\n",
      "rohan\n",
      "harrry\n",
      "skillf\n",
      "hammad\n",
      "shivam\n"
     ]
    }
   ],
   "source": [
    "def agrspractice(normal,*args): #args should always be in last\n",
    "    #print(ash[0])\n",
    "    print(normal)\n",
    "    for item in args:\n",
    "        print(item)\n",
    "    \n",
    "ash=['ashish','rohan','harrry','skillf','hammad','shivam']\n",
    "normal = \"this is a practice\"\n",
    "\n",
    "agrspractice(normal,*ash)"
   ]
  },
  {
   "cell_type": "code",
   "execution_count": 21,
   "id": "4e6dda97",
   "metadata": {},
   "outputs": [
    {
     "name": "stdout",
     "output_type": "stream",
     "text": [
      "this is a practice\n",
      "ashish\n",
      "rohan\n",
      "harrry\n",
      "skillf\n",
      "hammad\n",
      "shivam\n",
      "now i would like to introduce some of our heroes\n",
      "ashish is a SDET\n",
      "harry is a Teacher\n",
      "udemy is a master\n"
     ]
    }
   ],
   "source": [
    "def agrspractice(normal,*args,**kwargswala): #args should always be in last\n",
    "    #print(ash[0])\n",
    "    print(normal)\n",
    "    for item in args:\n",
    "        print(item)\n",
    "    print(\"now i would like to introduce some of our heroes\")\n",
    "    \n",
    "    for key,value in kwargswala.items():\n",
    "        print(f\"{key} is a {value}\")\n",
    "    \n",
    "ash=['ashish','rohan','harrry','skillf','hammad','shivam']\n",
    "normal = \"this is a practice\"\n",
    "kw ={'ashish':'SDET','harry':'Teacher','udemy':'master'}\n",
    "\n",
    "agrspractice(normal,*ash,**kw)"
   ]
  },
  {
   "cell_type": "code",
   "execution_count": 22,
   "id": "920f534c",
   "metadata": {},
   "outputs": [],
   "source": [
    "def square(num):\n",
    "    return num**2"
   ]
  },
  {
   "cell_type": "code",
   "execution_count": 23,
   "id": "f2faf595",
   "metadata": {},
   "outputs": [],
   "source": [
    "my_nums = [1,2,3,4,5]"
   ]
  },
  {
   "cell_type": "code",
   "execution_count": 25,
   "id": "7073c8da",
   "metadata": {},
   "outputs": [
    {
     "name": "stdout",
     "output_type": "stream",
     "text": [
      "1\n",
      "4\n",
      "9\n",
      "16\n",
      "25\n"
     ]
    }
   ],
   "source": [
    "for item in map(square,my_nums):\n",
    "    print(item)"
   ]
  },
  {
   "cell_type": "code",
   "execution_count": 26,
   "id": "b82fbe80",
   "metadata": {},
   "outputs": [
    {
     "data": {
      "text/plain": [
       "[1, 4, 9, 16, 25]"
      ]
     },
     "execution_count": 26,
     "metadata": {},
     "output_type": "execute_result"
    }
   ],
   "source": [
    "list(map(square,my_nums))"
   ]
  },
  {
   "cell_type": "code",
   "execution_count": 27,
   "id": "c1820ab2",
   "metadata": {},
   "outputs": [],
   "source": [
    "def splicer(mystring):\n",
    "    if len(mystring)%2 == 0:\n",
    "        return 'EVEN'\n",
    "    else:\n",
    "        return mystring[0]"
   ]
  },
  {
   "cell_type": "code",
   "execution_count": 28,
   "id": "192693c6",
   "metadata": {},
   "outputs": [],
   "source": [
    "names = ['Andy','Eve','Sally']"
   ]
  },
  {
   "cell_type": "code",
   "execution_count": 29,
   "id": "5f833a10",
   "metadata": {},
   "outputs": [
    {
     "data": {
      "text/plain": [
       "['EVEN', 'E', 'S']"
      ]
     },
     "execution_count": 29,
     "metadata": {},
     "output_type": "execute_result"
    }
   ],
   "source": [
    "list(map(splicer,names))"
   ]
  },
  {
   "cell_type": "code",
   "execution_count": 30,
   "id": "4622d100",
   "metadata": {},
   "outputs": [],
   "source": [
    "def check_even(num):\n",
    "    return num%2 == 0"
   ]
  },
  {
   "cell_type": "code",
   "execution_count": 33,
   "id": "1bbbaa1f",
   "metadata": {},
   "outputs": [],
   "source": [
    "my_nums1 = [1,2,3,4,5,6]"
   ]
  },
  {
   "cell_type": "code",
   "execution_count": 34,
   "id": "e8737daa",
   "metadata": {},
   "outputs": [
    {
     "data": {
      "text/plain": [
       "[2, 4, 6]"
      ]
     },
     "execution_count": 34,
     "metadata": {},
     "output_type": "execute_result"
    }
   ],
   "source": [
    "list(filter(check_even,my_nums1))"
   ]
  },
  {
   "cell_type": "code",
   "execution_count": null,
   "id": "323ad3c9",
   "metadata": {},
   "outputs": [],
   "source": []
  },
  {
   "cell_type": "code",
   "execution_count": 42,
   "id": "53214c33",
   "metadata": {},
   "outputs": [],
   "source": [
    "def square(num): return num ** 2"
   ]
  },
  {
   "cell_type": "code",
   "execution_count": 47,
   "id": "a537e09f",
   "metadata": {},
   "outputs": [],
   "source": [
    "square = lambda num: num ** 2"
   ]
  },
  {
   "cell_type": "code",
   "execution_count": 48,
   "id": "9461b592",
   "metadata": {},
   "outputs": [
    {
     "data": {
      "text/plain": [
       "16"
      ]
     },
     "execution_count": 48,
     "metadata": {},
     "output_type": "execute_result"
    }
   ],
   "source": [
    "square(4)"
   ]
  },
  {
   "cell_type": "code",
   "execution_count": 49,
   "id": "ae6d6cb1",
   "metadata": {},
   "outputs": [
    {
     "data": {
      "text/plain": [
       "[1, 4, 9, 16, 25, 36]"
      ]
     },
     "execution_count": 49,
     "metadata": {},
     "output_type": "execute_result"
    }
   ],
   "source": [
    "list(map(lambda num: num ** 2,my_nums1))"
   ]
  },
  {
   "cell_type": "code",
   "execution_count": null,
   "id": "39b0d7a4",
   "metadata": {},
   "outputs": [],
   "source": []
  },
  {
   "cell_type": "code",
   "execution_count": null,
   "id": "7e5f5d39",
   "metadata": {},
   "outputs": [],
   "source": []
  },
  {
   "cell_type": "code",
   "execution_count": 53,
   "id": "918583f4",
   "metadata": {},
   "outputs": [],
   "source": [
    "x = 25\n",
    "\n",
    "def printer():\n",
    "    x = 50\n",
    "    return x"
   ]
  },
  {
   "cell_type": "code",
   "execution_count": 54,
   "id": "b758c895",
   "metadata": {},
   "outputs": [
    {
     "name": "stdout",
     "output_type": "stream",
     "text": [
      "25\n"
     ]
    }
   ],
   "source": [
    "print(x)"
   ]
  },
  {
   "cell_type": "code",
   "execution_count": 55,
   "id": "91682f01",
   "metadata": {},
   "outputs": [
    {
     "data": {
      "text/plain": [
       "50"
      ]
     },
     "execution_count": 55,
     "metadata": {},
     "output_type": "execute_result"
    }
   ],
   "source": [
    "printer()"
   ]
  },
  {
   "cell_type": "code",
   "execution_count": 67,
   "id": "d7164c5e",
   "metadata": {},
   "outputs": [],
   "source": [
    "#Global\n",
    "name = 'This is a global string'\n",
    "\n",
    "def greet():\n",
    "    #Enclosing\n",
    "    #name = 'Sammy'\n",
    "    \n",
    "    def hello():\n",
    "        #local\n",
    "        #name = 'Ashish'\n",
    "        print('Hello '+name)\n",
    "        \n",
    "    hello()\n",
    "    \n"
   ]
  },
  {
   "cell_type": "code",
   "execution_count": 66,
   "id": "337def98",
   "metadata": {},
   "outputs": [
    {
     "name": "stdout",
     "output_type": "stream",
     "text": [
      "Hello This is a global string\n"
     ]
    }
   ],
   "source": [
    "greet()"
   ]
  },
  {
   "cell_type": "code",
   "execution_count": 78,
   "id": "86768801",
   "metadata": {},
   "outputs": [],
   "source": [
    "x = 50\n",
    " \n",
    "def fun(x):\n",
    "    \n",
    "    print(f'X is {x}')\n",
    "    \n",
    "    #local reassignment\n",
    "    x=200\n",
    "    print(f' I just locally changed x to {x}')\n",
    "    "
   ]
  },
  {
   "cell_type": "code",
   "execution_count": 79,
   "id": "9aab263a",
   "metadata": {},
   "outputs": [
    {
     "name": "stdout",
     "output_type": "stream",
     "text": [
      "X is 50\n",
      " I just locally changed x to 200\n"
     ]
    }
   ],
   "source": [
    "fun(x)"
   ]
  },
  {
   "cell_type": "code",
   "execution_count": 81,
   "id": "3769bf05",
   "metadata": {},
   "outputs": [],
   "source": [
    "x = 50\n",
    " \n",
    "def fun():\n",
    "    \n",
    "    global x \n",
    "    \n",
    "    print(f'X is {x}')\n",
    "    \n",
    "    #local reassignment\n",
    "    x='new value'\n",
    "    print(f' I just locally changed x to {x}')\n",
    "    "
   ]
  },
  {
   "cell_type": "code",
   "execution_count": 82,
   "id": "5303e718",
   "metadata": {},
   "outputs": [
    {
     "name": "stdout",
     "output_type": "stream",
     "text": [
      "X is 50\n",
      " I just locally changed x to new value\n"
     ]
    }
   ],
   "source": [
    "fun()"
   ]
  },
  {
   "cell_type": "code",
   "execution_count": 92,
   "id": "a763b3d0",
   "metadata": {},
   "outputs": [],
   "source": [
    "x = 50\n",
    " \n",
    "def fun(x):\n",
    "    \n",
    "    \n",
    "    print(f'X is {x}')\n",
    "    \n",
    "    #local reassignment\n",
    "    x='new value'\n",
    "    print(f' I just locally changed x to {x}')\n",
    "    return x\n",
    "    "
   ]
  },
  {
   "cell_type": "code",
   "execution_count": 93,
   "id": "f73133d6",
   "metadata": {},
   "outputs": [
    {
     "name": "stdout",
     "output_type": "stream",
     "text": [
      "50\n"
     ]
    }
   ],
   "source": [
    "print(x)"
   ]
  },
  {
   "cell_type": "code",
   "execution_count": 94,
   "id": "1d57ecc4",
   "metadata": {},
   "outputs": [
    {
     "name": "stdout",
     "output_type": "stream",
     "text": [
      "X is 50\n",
      " I just locally changed x to new value\n"
     ]
    }
   ],
   "source": [
    "x = fun(x)"
   ]
  },
  {
   "cell_type": "code",
   "execution_count": 95,
   "id": "7d740f99",
   "metadata": {},
   "outputs": [
    {
     "data": {
      "text/plain": [
       "'new value'"
      ]
     },
     "execution_count": 95,
     "metadata": {},
     "output_type": "execute_result"
    }
   ],
   "source": [
    "x"
   ]
  },
  {
   "cell_type": "code",
   "execution_count": null,
   "id": "0fef4c8c",
   "metadata": {},
   "outputs": [],
   "source": []
  }
 ],
 "metadata": {
  "kernelspec": {
   "display_name": "Python 3 (ipykernel)",
   "language": "python",
   "name": "python3"
  },
  "language_info": {
   "codemirror_mode": {
    "name": "ipython",
    "version": 3
   },
   "file_extension": ".py",
   "mimetype": "text/x-python",
   "name": "python",
   "nbconvert_exporter": "python",
   "pygments_lexer": "ipython3",
   "version": "3.8.10"
  }
 },
 "nbformat": 4,
 "nbformat_minor": 5
}
