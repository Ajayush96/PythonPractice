{
 "cells": [
  {
   "cell_type": "code",
   "execution_count": 8,
   "id": "5f87a9c6",
   "metadata": {},
   "outputs": [
    {
     "name": "stdout",
     "output_type": "stream",
     "text": [
      "name: Jessa salary: 8000\n",
      "Jessa is working on NLP\n"
     ]
    }
   ],
   "source": [
    "class Employee:\n",
    "    #constructor\n",
    "    \n",
    "    def __init__(self,name,salary,project):\n",
    "        self.name=name\n",
    "        self.salary=salary\n",
    "        self.project=project\n",
    "        \n",
    "    def show(self):\n",
    "        print('name:', self.name , 'salary:',self.salary), ''\n",
    "        \n",
    "    def work(self):\n",
    "        print(self.name ,'is working on', self.project)\n",
    "        \n",
    "emp = Employee('Jessa',8000,'NLP')\n",
    "\n",
    "emp.show()\n",
    "emp.work()"
   ]
  },
  {
   "cell_type": "code",
   "execution_count": null,
   "id": "7db28812",
   "metadata": {},
   "outputs": [],
   "source": []
  },
  {
   "cell_type": "code",
   "execution_count": 9,
   "id": "63afd583",
   "metadata": {},
   "outputs": [],
   "source": [
    "#data Hinding using Encapsulation"
   ]
  },
  {
   "cell_type": "code",
   "execution_count": null,
   "id": "da734a01",
   "metadata": {},
   "outputs": [],
   "source": [
    "class Employee:\n",
    "    #constructor\n",
    "    \n",
    "    def __init__(self,name,salary,project):\n",
    "        self.name=name #Public\n",
    "        self._salary=salary #protected\n",
    "        self.__project=project #private"
   ]
  }
 ],
 "metadata": {
  "kernelspec": {
   "display_name": "Python 3 (ipykernel)",
   "language": "python",
   "name": "python3"
  },
  "language_info": {
   "codemirror_mode": {
    "name": "ipython",
    "version": 3
   },
   "file_extension": ".py",
   "mimetype": "text/x-python",
   "name": "python",
   "nbconvert_exporter": "python",
   "pygments_lexer": "ipython3",
   "version": "3.8.10"
  }
 },
 "nbformat": 4,
 "nbformat_minor": 5
}
